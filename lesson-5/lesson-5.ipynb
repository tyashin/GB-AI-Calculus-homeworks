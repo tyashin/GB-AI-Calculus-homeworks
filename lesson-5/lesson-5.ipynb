{
 "cells": [
  {
   "cell_type": "markdown",
   "id": "f506eff0",
   "metadata": {},
   "source": [
    "## <div align=\"center\"> Практическое задание уроку №5 (!!!в работе до 28.11.'21!!!) </div>"
   ]
  },
  {
   "cell_type": "markdown",
   "id": "ae561e5b",
   "metadata": {},
   "source": [
    "**1. Найти производную функции:**\n",
    "\n",
    "### $$y=\\frac{1}{x}+\\frac{2}{x^2}-\\frac{5}{x^3}+\\sqrt x -\\sqrt[3]x+\\frac{3}{\\sqrt x}$$"
   ]
  },
  {
   "cell_type": "markdown",
   "id": "b733724b",
   "metadata": {},
   "source": []
  },
  {
   "cell_type": "markdown",
   "id": "b3c022b1",
   "metadata": {},
   "source": [
    "**2. Найти производную функции:**\n",
    "\n",
    "### $$y=x \\cdot \\sqrt {1+x^2}$$"
   ]
  },
  {
   "cell_type": "markdown",
   "id": "5d85fae2",
   "metadata": {},
   "source": []
  },
  {
   "cell_type": "markdown",
   "id": "143c0988",
   "metadata": {},
   "source": [
    "**3. Найти производную функции:**\n",
    "\n",
    "### $$y= \\frac{2x}{1-x^2}$$"
   ]
  },
  {
   "cell_type": "markdown",
   "id": "f3c83994",
   "metadata": {},
   "source": []
  },
  {
   "cell_type": "markdown",
   "id": "81b45949",
   "metadata": {},
   "source": [
    "__4*. Найти производную функции:__\n",
    "\n",
    "### $$y=\\sqrt{x+ \\sqrt{x+\\sqrt x}}$$"
   ]
  },
  {
   "cell_type": "markdown",
   "id": "5600e19f",
   "metadata": {},
   "source": []
  },
  {
   "cell_type": "markdown",
   "id": "3b676c91",
   "metadata": {},
   "source": [
    "**5. Найти производную функции:**\n",
    "\n",
    "### $$y= \\ln(x+\\sqrt{x^2+1})$$"
   ]
  },
  {
   "cell_type": "markdown",
   "id": "421eef07",
   "metadata": {},
   "source": []
  },
  {
   "cell_type": "markdown",
   "id": "9a15c52a",
   "metadata": {},
   "source": [
    "**6. Найти производную функции:**\n",
    "\n",
    "### $$y=x \\cdot \\ln(x+\\sqrt{x^2+1})-\\sqrt{x^2+1}$$"
   ]
  },
  {
   "cell_type": "markdown",
   "id": "ce1c922c",
   "metadata": {},
   "source": []
  },
  {
   "cell_type": "markdown",
   "id": "94ddbb03",
   "metadata": {},
   "source": [
    "__7*. Найти производную функции:__\n",
    "\n",
    "### $$y=\\arcsin (\\sin x)$$"
   ]
  },
  {
   "cell_type": "markdown",
   "id": "7b48da47",
   "metadata": {},
   "source": []
  },
  {
   "cell_type": "markdown",
   "id": "344aebd5",
   "metadata": {},
   "source": [
    "__8*. Вычислить приближенное значение:__\n",
    "\n",
    "### $$\\sin(1^0)=\\sin\\Bigl(\\frac{\\pi}{180}\\Bigr)$$"
   ]
  },
  {
   "cell_type": "markdown",
   "id": "443bafbb",
   "metadata": {},
   "source": []
  },
  {
   "cell_type": "markdown",
   "id": "10585d71",
   "metadata": {},
   "source": [
    "__9**. Написать на python алгоритм, по вычислению значений $\\sin(x)$ для $х \\in[0, 30^0]$__\n",
    "\n",
    "Для проверки подойдут данные из таблицы Брадиса"
   ]
  },
  {
   "cell_type": "markdown",
   "id": "8042eb89",
   "metadata": {},
   "source": []
  }
 ],
 "metadata": {
  "kernelspec": {
   "display_name": "Python 3.8.5 64-bit ('base': conda)",
   "language": "python",
   "name": "python385jvsc74a57bd08a49bb684e43ab00106799ded31d49934e1f306b7a86a273670123ff298874f2"
  },
  "language_info": {
   "codemirror_mode": {
    "name": "ipython",
    "version": 3
   },
   "file_extension": ".py",
   "mimetype": "text/x-python",
   "name": "python",
   "nbconvert_exporter": "python",
   "pygments_lexer": "ipython3",
   "version": "3.8.10"
  }
 },
 "nbformat": 4,
 "nbformat_minor": 5
}
