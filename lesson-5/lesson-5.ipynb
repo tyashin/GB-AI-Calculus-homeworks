{
 "cells": [
  {
   "cell_type": "markdown",
   "id": "f506eff0",
   "metadata": {},
   "source": [
    "## <div align=\"center\"> Практическое задание уроку №5 </div>"
   ]
  },
  {
   "cell_type": "markdown",
   "id": "ae561e5b",
   "metadata": {},
   "source": [
    "**1. Найти производную функции:**\n",
    "\n",
    "### $$y=\\frac{1}{x}+\\frac{2}{x^2}-\\frac{5}{x^3}+\\sqrt x -\\sqrt[3]x+\\frac{3}{\\sqrt x}$$"
   ]
  },
  {
   "cell_type": "markdown",
   "id": "b733724b",
   "metadata": {},
   "source": [
    "### $$\\Bigr(\\frac{1}{x}+\\frac{2}{x^2}-\\frac{5}{x^3}+\\sqrt x -\\sqrt[3]x+\\frac{3}{\\sqrt x}\\Bigl)'=$$"
   ]
  },
  {
   "cell_type": "markdown",
   "id": "f1fdfc26",
   "metadata": {},
   "source": [
    "### $$\\boxed{-x^{-2}-4x^{-3}+15x^{-4}+\\frac{1}{2x^{\\frac{1}{2}}} - \\frac{1}{3x^{\\frac{2}{3}}}-\\frac{3}{2x^{\\frac{3}{2}}}}$$"
   ]
  },
  {
   "cell_type": "markdown",
   "id": "b3c022b1",
   "metadata": {},
   "source": [
    "**2. Найти производную функции:**\n",
    "\n",
    "### $$y=x \\cdot \\sqrt {1+x^2}$$"
   ]
  },
  {
   "cell_type": "markdown",
   "id": "5d85fae2",
   "metadata": {},
   "source": [
    "### $$\\Bigl(x \\cdot \\sqrt {1+x^2}\\Bigr)'=$$"
   ]
  },
  {
   "cell_type": "markdown",
   "id": "40f99894",
   "metadata": {},
   "source": [
    "### $$\\Bigl(1+x^2\\Bigr)^{\\frac{1}{2}}+\\frac{x^{2}}{(1+x^{2})^{\\frac{1}{2}}}=$$"
   ]
  },
  {
   "cell_type": "markdown",
   "id": "b53e5aaf",
   "metadata": {},
   "source": [
    "### $$\\boxed{\\frac{2x^2+1}{(1+x^2)^{\\frac{1}{2}}}}$$"
   ]
  },
  {
   "cell_type": "markdown",
   "id": "143c0988",
   "metadata": {},
   "source": [
    "**3. Найти производную функции:**\n",
    "\n",
    "### $$y= \\frac{2x}{1-x^2}$$"
   ]
  },
  {
   "cell_type": "markdown",
   "id": "f3c83994",
   "metadata": {},
   "source": [
    "### $$\\bigl(\\frac{2x}{1-x^2}\\bigr)'= \\frac{2-2x^2 + 4x^2}{(1-x^2)^2}=\\boxed{\\frac{2(x^2+1)}{(1-x^2)^2}}$$"
   ]
  },
  {
   "cell_type": "markdown",
   "id": "3b676c91",
   "metadata": {},
   "source": [
    "**5. Найти производную функции:**\n",
    "\n",
    "### $$y= \\ln(x+\\sqrt{x^2+1})$$"
   ]
  },
  {
   "cell_type": "markdown",
   "id": "421eef07",
   "metadata": {},
   "source": [
    "### $$\\bigl(\\ln(x+(x^2+1)^{\\frac{1}{2}}\\bigr)'= \\frac{1}{x+(x^2+1)^{\\frac{1}{2}}}\\cdot \\Bigr(1+\\frac{x}{(x^2+1)^{\\frac{1}{2}}} \\Bigl)=$$"
   ]
  },
  {
   "cell_type": "markdown",
   "id": "328827ca",
   "metadata": {},
   "source": [
    "### $$\\boxed{\\frac{1}{(x^2+1)^{\\frac{1}{2}}}}$$"
   ]
  },
  {
   "cell_type": "markdown",
   "id": "9a15c52a",
   "metadata": {},
   "source": [
    "**6. Найти производную функции:**\n",
    "\n",
    "### $$y=x \\cdot \\ln(x+\\sqrt{x^2+1})-\\sqrt{x^2+1}$$"
   ]
  },
  {
   "cell_type": "markdown",
   "id": "ce1c922c",
   "metadata": {},
   "source": [
    "### $$ \\bigl(x \\cdot \\ln(x+\\sqrt{x^2+1})-\\sqrt{x^2+1}\\bigr)'=$$"
   ]
  },
  {
   "cell_type": "markdown",
   "id": "7b48da47",
   "metadata": {},
   "source": [
    "### $$\\ln(x + (x^2+1)^{\\frac{1}{2}})+\\frac{x}{(x^2+1)^{\\frac{1}{2}}} - \\frac{x}{(x^2+1)^{\\frac{1}{2}}} = \\boxed{\\ln\\bigl(x + (x^2+1)^{\\frac{1}{2}}\\bigr)}$$"
   ]
  }
 ],
 "metadata": {
  "kernelspec": {
   "display_name": "Python 3.8.5 64-bit ('base': conda)",
   "language": "python",
   "name": "python385jvsc74a57bd08a49bb684e43ab00106799ded31d49934e1f306b7a86a273670123ff298874f2"
  },
  "language_info": {
   "codemirror_mode": {
    "name": "ipython",
    "version": 3
   },
   "file_extension": ".py",
   "mimetype": "text/x-python",
   "name": "python",
   "nbconvert_exporter": "python",
   "pygments_lexer": "ipython3",
   "version": "3.8.10"
  }
 },
 "nbformat": 4,
 "nbformat_minor": 5
}
