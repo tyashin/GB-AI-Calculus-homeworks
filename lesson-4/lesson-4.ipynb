{
 "cells": [
  {
   "cell_type": "markdown",
   "id": "90f76615",
   "metadata": {},
   "source": [
    "## <div align=\"center\"> Практическое задание уроку №4 </div>"
   ]
  },
  {
   "cell_type": "markdown",
   "id": "68c28d30",
   "metadata": {},
   "source": [
    "**1. Найти предел функции:**"
   ]
  },
  {
   "cell_type": "markdown",
   "id": "f9f87f3c",
   "metadata": {},
   "source": [
    "### $$а)\\,\\,\\,\\,\\lim_{x\\to 6} \\frac{x^2-36}{x^2-x-30}$$"
   ]
  },
  {
   "cell_type": "markdown",
   "id": "8861b1b7",
   "metadata": {},
   "source": [
    "#### $$\\lim_{x\\to 6} \\frac{x^2-36}{x^2-x-30} = \\frac{0}{0}=$$\n",
    "#### $$\\lim_{x\\to 6} \\frac{(x-6)(x+6)}{(x-6)(x+5)} = \\boxed{\\frac{12}{11}}$$"
   ]
  },
  {
   "cell_type": "markdown",
   "id": "c0b96193",
   "metadata": {},
   "source": [
    "### $$б)\\,\\,\\,\\,\\lim_{x\\to 7} \\frac{x^2-49}{x^2-13x+42}$$"
   ]
  },
  {
   "cell_type": "markdown",
   "id": "ee91e7b3",
   "metadata": {},
   "source": [
    "#### $$\\lim_{x\\to 7} \\frac{x^2-49}{x^2-13x+42}=\\frac{0}{0}=$$\n",
    "#### $$\\lim_{x\\to 7} \\frac{(x-7)(x+7)}{(x-7)(x-6)} = \\boxed{14}$$"
   ]
  },
  {
   "cell_type": "markdown",
   "id": "9819e7f5",
   "metadata": {},
   "source": [
    "### $$г)\\,\\,\\,\\,\\lim_{x\\to 0} \\frac{3x\\,\\mbox{tg}\\,4x}{1-\\cos4x}$$"
   ]
  },
  {
   "cell_type": "markdown",
   "id": "2b2256de",
   "metadata": {},
   "source": [
    "#### $$\\lim_{x\\to 0} \\frac{3x\\,\\mbox{tg}\\,4x}{1-\\cos4x} = \\frac{0}{0}=$$\n",
    "#### $$\\lim_{x\\to 0} \\frac{12x^2}{2 \\sin^2 2x} = \\lim_{x\\to 0}\\frac{12x^2}{8x^2}=\\boxed{\\frac{3}{2}}$$"
   ]
  },
  {
   "cell_type": "markdown",
   "id": "790afb53",
   "metadata": {},
   "source": [
    "### $$е)\\,\\,\\,\\,\\lim_{x\\to \\infty} \\Bigr(\\frac{4x}{4x+3}\\Bigl)^\\frac{5x^2}{7x-1}$$"
   ]
  },
  {
   "cell_type": "markdown",
   "id": "79099759",
   "metadata": {},
   "source": [
    "#### $$Воспользуемся\\hspace{3mm} формулой\\hspace{3mm} \\lim_{x\\to \\infty} \\Bigr(U(x)\\Bigl)^{V(x)}=(1)^{+\\infty}=\\lim_{x\\to \\infty} e^{(U(x)-1)V(x)}$$"
   ]
  },
  {
   "cell_type": "markdown",
   "id": "53783658",
   "metadata": {},
   "source": [
    "### $$\\lim_{x\\to \\infty} \\Bigr(\\frac{4x}{4x+3}\\Bigl)^\\frac{5x^2}{7x-1} = 1^\\infty=\\lim_{x\\to \\infty} e^{(\\frac{4x}{4x+3}-1)\\frac{5x^2}{7x-1}} = \\lim_{x\\to \\infty} {e^{\\frac{-3}{4x+3}\\cdot\\frac{5x^2}{7x-1}}} = \\boxed{e^{-\\frac{15}{28}}}$$"
   ]
  },
  {
   "cell_type": "markdown",
   "id": "c1c165ba",
   "metadata": {},
   "source": [
    "**2*.На языке Python предложить алгоритм вычисляющий численно предел последовательности**\n",
    "\n",
    "### $$\\lim_{n\\to +\\infty} \\frac{n}{\\sqrt[n]{n!}}$$"
   ]
  },
  {
   "cell_type": "code",
   "execution_count": 2,
   "id": "ba3305eb",
   "metadata": {},
   "outputs": [
    {
     "name": "stdout",
     "output_type": "stream",
     "text": [
      "limit = 2.7182665937361787 для n = 1428290\n"
     ]
    }
   ],
   "source": [
    "# с использованием формулы Стирлинга\n",
    "\n",
    "import math\n",
    "\n",
    "def f(n):\n",
    "    return math.e/(2*math.pi*n)**(1/(2*n))\n",
    "e = 0.00000000001\n",
    "n=2\n",
    "while(abs(f(n)-f(n-1)))>e:\n",
    "    n +=1\n",
    "print(f'limit = {f(n)} для n = {n}')"
   ]
  }
 ],
 "metadata": {
  "kernelspec": {
   "display_name": "Python 3.8.5 64-bit ('base': conda)",
   "language": "python",
   "name": "python385jvsc74a57bd08a49bb684e43ab00106799ded31d49934e1f306b7a86a273670123ff298874f2"
  },
  "language_info": {
   "codemirror_mode": {
    "name": "ipython",
    "version": 3
   },
   "file_extension": ".py",
   "mimetype": "text/x-python",
   "name": "python",
   "nbconvert_exporter": "python",
   "pygments_lexer": "ipython3",
   "version": "3.8.10"
  }
 },
 "nbformat": 4,
 "nbformat_minor": 5
}
