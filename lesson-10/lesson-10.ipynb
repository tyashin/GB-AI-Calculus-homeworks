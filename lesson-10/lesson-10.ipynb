{
 "cells": [
  {
   "cell_type": "markdown",
   "id": "8a08d1a4",
   "metadata": {},
   "source": [
    "## <div align=\"center\"> Практическое задание к уроку №10</div>"
   ]
  },
  {
   "cell_type": "markdown",
   "id": "07c7fc82",
   "metadata": {},
   "source": [
    "## "
   ]
  },
  {
   "cell_type": "markdown",
   "id": "88c7f22d",
   "metadata": {},
   "source": [
    "__1.__ Исследовать сходимость ряда. \n",
    "\n",
    "\n",
    "### $$\\frac{1}{2\\sqrt2}+\\frac{1}{3\\sqrt3}+\\,...\\,+\\frac{1}{(n+1)\\sqrt{n+1}}+\\,...\\,=\\sum\\limits_{n=1}^{+\\infty}\\frac{1}{(n+1)\\sqrt{n+1}}$$"
   ]
  },
  {
   "cell_type": "markdown",
   "id": "8feba6fa",
   "metadata": {},
   "source": []
  },
  {
   "cell_type": "markdown",
   "id": "181d8cf9",
   "metadata": {},
   "source": []
  },
  {
   "cell_type": "markdown",
   "id": "47f8c2f0",
   "metadata": {},
   "source": [
    "__2.__ Исследовать сходимость ряда\n",
    "\n",
    "### $$\\frac{1000}{1!}+\\frac{1000^2}{2!}+\\,...\\,+\\frac{1000^n}{n!}+\\,...\\,=\\sum\\limits_{n=1}^{+\\infty}\\frac{1000^n}{n!}$$"
   ]
  },
  {
   "cell_type": "markdown",
   "id": "88769977",
   "metadata": {},
   "source": []
  },
  {
   "cell_type": "markdown",
   "id": "27676e4c",
   "metadata": {},
   "source": []
  }
 ],
 "metadata": {
  "kernelspec": {
   "display_name": "Python 3.8.5 64-bit ('base': conda)",
   "language": "python",
   "name": "python385jvsc74a57bd08a49bb684e43ab00106799ded31d49934e1f306b7a86a273670123ff298874f2"
  },
  "language_info": {
   "codemirror_mode": {
    "name": "ipython",
    "version": 3
   },
   "file_extension": ".py",
   "mimetype": "text/x-python",
   "name": "python",
   "nbconvert_exporter": "python",
   "pygments_lexer": "ipython3",
   "version": "3.8.10"
  }
 },
 "nbformat": 4,
 "nbformat_minor": 5
}
