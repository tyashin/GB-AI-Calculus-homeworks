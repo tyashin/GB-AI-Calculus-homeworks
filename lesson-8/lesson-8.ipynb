{
 "cells": [
  {
   "cell_type": "markdown",
   "id": "18b87ecc",
   "metadata": {},
   "source": [
    "## <div align=\"center\"> Практическое задание к уроку №8 </div>"
   ]
  },
  {
   "cell_type": "markdown",
   "id": "075d6bc5",
   "metadata": {},
   "source": [
    "**__1.__ Исследовать на условный экстремум функцию**\n",
    "\n",
    "### $$U=3-8x+6y,$$\n",
    "\n",
    "если\n",
    "\n",
    "### $$x^2+y^2=36$$"
   ]
  },
  {
   "cell_type": "markdown",
   "id": "b8660ea3",
   "metadata": {},
   "source": [
    "**Решение:**"
   ]
  },
  {
   "cell_type": "markdown",
   "id": "4fe0146b",
   "metadata": {},
   "source": [
    "Функция Лагранжа:\n",
    "\n",
    "$$L(x,y,\\lambda)=3-8x+6y +\\lambda \\cdot (x^2+y^2-36)$$"
   ]
  },
  {
   "cell_type": "markdown",
   "id": "93d81408",
   "metadata": {},
   "source": [
    "Система уравнений, составленная из частных производных 1-го порядка:\n",
    "\n",
    "$$\\begin{cases}\n",
    "   L'_{x}=-8+\\lambda \\cdot2x=0, \\\\\n",
    "   L'_{y}=6+\\lambda \\cdot2y=0, \\\\\n",
    "   L'_{\\lambda}=x^2+y^2-36=0\n",
    " \\end{cases}$$"
   ]
  },
  {
   "cell_type": "code",
   "execution_count": 10,
   "id": "daeebf38",
   "metadata": {},
   "outputs": [
    {
     "data": {
      "text/plain": [
       "[(-24/5, 18/5, -5/6), (24/5, -18/5, 5/6)]"
      ]
     },
     "execution_count": 10,
     "metadata": {},
     "output_type": "execute_result"
    }
   ],
   "source": [
    "#Решение системы уравнений:\n",
    "import sympy as sym\n",
    "x,y,lam = sym.symbols('x,y,lam')\n",
    "eq1 = sym.Eq(-8 + lam*2*x,0)\n",
    "eq2 = sym.Eq(6 + lam*2*y,0)\n",
    "eq3 = sym.Eq(x**2 + y**2 - 36,0)\n",
    "sym.solve([eq1,eq2, eq3],(x,y,lam))"
   ]
  },
  {
   "cell_type": "markdown",
   "id": "37ece2cc",
   "metadata": {},
   "source": [
    "Производные 2-го порядка:\n",
    "\n",
    "#### $$L''_{xx}=2\\lambda$$\n",
    "#### $$L''_{yy}=2\\lambda$$\n",
    "#### $$L''_{\\lambda \\lambda}=0$$\n",
    "#### $$L''_{xy}=L''_{yx}=0$$\n",
    "#### $$L''_{x\\lambda}=L''_{\\lambda x}=2x$$\n",
    "#### $$L''_{y\\lambda}=L''_{\\lambda y}=2y$$ "
   ]
  },
  {
   "cell_type": "markdown",
   "id": "759d7848",
   "metadata": {},
   "source": [
    "Матрица Гессе:\n",
    "\n",
    "$$\\begin{pmatrix}\n",
    "L''_{\\lambda \\lambda} & L''_{\\lambda x} & L''_{\\lambda y}\\\\ \n",
    "L''_{x \\lambda} & L''_{xx} & L''_{xy}\\\\\n",
    "L''_{y \\lambda} & L''_{yx} & L''_{yy}\\\\\n",
    "\\end{pmatrix} = \n",
    "\\begin{pmatrix}\n",
    "0 & 2x & 32y\\\\ \n",
    "2x & 4+2\\lambda & 12\\\\\n",
    "32y & 12 & 64+32\\lambda\\\\\n",
    "\\end{pmatrix}$$\n"
   ]
  },
  {
   "cell_type": "markdown",
   "id": "72a0d339",
   "metadata": {},
   "source": [
    "Определитель матрицы:\n",
    "\n",
    "$$\\Delta=\\begin{vmatrix}\n",
    "0 & 2x & 2y\\\\ \n",
    "2x & 2\\lambda & 0\\\\\n",
    "2y & 0 & 2\\lambda\\\\\n",
    "\\end{vmatrix}=0\\cdot\n",
    "\\begin{vmatrix}\n",
    "2\\lambda & 0\\\\\n",
    "0 & 2\\lambda\\\\\n",
    "\\end{vmatrix}-2x\\cdot\n",
    "\\begin{vmatrix}\n",
    "2x & 0\\\\\n",
    "2y & 2\\lambda\\\\\n",
    "\\end{vmatrix}+2y\\cdot\n",
    "\\begin{vmatrix}\n",
    "2x & 2\\lambda\\\\\n",
    "2y & 0\\\\\n",
    "\\end{vmatrix}=(-2x)\\cdot 4x\\lambda+2y \\cdot(-4y\\lambda)=-8\\lambda(x^2+y^2) = -8\\lambda \\cdot36 = -288\\lambda$$"
   ]
  },
  {
   "cell_type": "markdown",
   "id": "c4be4c1f",
   "metadata": {},
   "source": [
    "Тогда (-24/5, 18/5, -5/6) - это точка максимума, т.к.\n",
    "$$\\Delta = 240 > 0$$ \n",
    "\n",
    ", а точка (24/5, -18/5, 5/6) - это точка минимума, т.к.\n",
    "$$\\Delta = -240 < 0$$ "
   ]
  },
  {
   "cell_type": "markdown",
   "id": "238f0e53",
   "metadata": {},
   "source": [
    "**__2.__ Исследовать на условный экстремум функцию**\n",
    "\n",
    "### $$U=2x^2+12xy+32y^2+15,$$\n",
    "\n",
    "если\n",
    "\n",
    "### $$x^2+16y^2=64$$"
   ]
  },
  {
   "cell_type": "markdown",
   "id": "8cddc9a2",
   "metadata": {},
   "source": [
    "**Решение:**"
   ]
  },
  {
   "cell_type": "markdown",
   "id": "e2c994ef",
   "metadata": {},
   "source": [
    "Функция Лагранжа:\n",
    "\n",
    "$$L(x,y,\\lambda)=2x^2+12xy+32y^2+15 +\\lambda \\cdot (x^2+16y^2-64)$$"
   ]
  },
  {
   "cell_type": "markdown",
   "id": "e648c6d4",
   "metadata": {},
   "source": [
    "Система уравнений, составленная из частных производных 1-го порядка:\n",
    "\n",
    "$$\\begin{cases}\n",
    "   L'_{x}=4x+12y+\\lambda \\cdot2x=0, \\\\\n",
    "   L'_{y}=12x+64y+\\lambda \\cdot32y=0, \\\\\n",
    "   L'_{\\lambda}=x^2+16y^2-64=0\n",
    " \\end{cases}$$"
   ]
  },
  {
   "cell_type": "code",
   "execution_count": 27,
   "id": "6aff6763",
   "metadata": {},
   "outputs": [
    {
     "data": {
      "text/plain": [
       "[(-4*sqrt(2), -sqrt(2), -7/2),\n",
       " (-4*sqrt(2), sqrt(2), -1/2),\n",
       " (4*sqrt(2), -sqrt(2), -1/2),\n",
       " (4*sqrt(2), sqrt(2), -7/2)]"
      ]
     },
     "execution_count": 27,
     "metadata": {},
     "output_type": "execute_result"
    }
   ],
   "source": [
    "#Решение системы уравнений:\n",
    "import sympy as sym\n",
    "x,y,lam = sym.symbols('x,y,lam')\n",
    "eq1 = sym.Eq(4*x+12*y+lam*2*x,0)\n",
    "eq2 = sym.Eq(12*x+64*y+lam*32*y,0)\n",
    "eq3 = sym.Eq(x**2 + 16*y**2 - 64,0)\n",
    "sym.solve([eq1,eq2, eq3],(x,y,lam))"
   ]
  },
  {
   "cell_type": "markdown",
   "id": "201e1533",
   "metadata": {},
   "source": [
    "Производные 2-го порядка:\n",
    "\n",
    "#### $$L''_{xx}=4+2\\lambda$$\n",
    "#### $$L''_{yy}=64+32\\lambda$$\n",
    "#### $$L''_{\\lambda \\lambda}=0$$\n",
    "\n",
    "#### $$L''_{xy}=L''_{yx}=12$$\n",
    "#### $$L''_{x\\lambda}=L''_{\\lambda x}=2x$$\n",
    "#### $$L''_{y\\lambda}=L''_{\\lambda y}=32y$$"
   ]
  },
  {
   "cell_type": "markdown",
   "id": "18363fe5",
   "metadata": {},
   "source": [
    "Матрица Гессе:\n",
    "\n",
    "$$\\begin{pmatrix}\n",
    "L''_{\\lambda \\lambda} & L''_{\\lambda x} & L''_{\\lambda y}\\\\ \n",
    "L''_{x \\lambda} & L''_{xx} & L''_{xy}\\\\\n",
    "L''_{y \\lambda} & L''_{yx} & L''_{yy}\\\\\n",
    "\\end{pmatrix}=\n",
    "\\begin{pmatrix}\n",
    "0 & 2x & 32y\\\\ \n",
    "2x & 4+2\\lambda & 12\\\\\n",
    "32y & 12 & 64+32\\lambda\\\\\n",
    "\\end{pmatrix}$$"
   ]
  },
  {
   "cell_type": "markdown",
   "id": "3438f60e",
   "metadata": {},
   "source": [
    "Определитель матрицы:\n",
    "\n",
    "$$\\Delta=-2x \\cdot \\begin{vmatrix}\n",
    "2x & 12\\\\\n",
    "32y & 64+32\\lambda\\\\\n",
    "\\end{vmatrix}+32y\\cdot\n",
    "\\begin{vmatrix}\n",
    "2x & 4+2\\lambda\\\\\n",
    "32y & 12\\\\\n",
    "\\end{vmatrix}=(-2x)\\cdot (128x+64x\\lambda-384y)+32y \\cdot(24x-128y-64y\\lambda)=$$\n",
    "\n",
    "$$=-16384-8192\\lambda+1536xy$$"
   ]
  },
  {
   "cell_type": "markdown",
   "id": "b7798c19",
   "metadata": {},
   "source": [
    "Для корней(-4*sqrt(2), -sqrt(2), -7/2); (4*sqrt(2), sqrt(2), -7/2) $\\Delta>0$ - это точки максимума.\n",
    "\n",
    "Для корней (-4*sqrt(2), sqrt(2), -1/2);(4*sqrt(2), -sqrt(2), -1/2) $\\Delta<0$ - это точки минимума."
   ]
  },
  {
   "cell_type": "markdown",
   "id": "8724d092",
   "metadata": {},
   "source": [
    "**__3.__ Численно найти хотя бы один действительный корень системы нелинейных уравнений:**\n",
    "\n",
    "$$\\begin{cases}\n",
    "   x^2-y^2+3xy^3-2x^2y^2+2x-3y-5=0 \\\\\n",
    "   3y^3-2x^2+2x^3y-5x^2y^2+5=0\n",
    " \\end{cases}$$"
   ]
  },
  {
   "cell_type": "code",
   "execution_count": 25,
   "id": "d9610150",
   "metadata": {},
   "outputs": [
    {
     "name": "stdout",
     "output_type": "stream",
     "text": [
      "1.273302064528599 1.6620391224277693\n"
     ]
    }
   ],
   "source": [
    "from scipy.optimize import fsolve\n",
    "\n",
    "def equations(p):\n",
    "    x, y = p\n",
    "    return (\n",
    "        x**2 - y**2 + 3 * x * y**3 - 2 * x**2 * y**2 + 2 * x - 3 * y - 5, \n",
    "        3 * y**3 - 2 * x**2 + 2 * x**3 * y - 5 * x**2 * y**2 + 5,\n",
    "    )\n",
    "\n",
    "(x, y), info, ier, mesg =  fsolve(equations, (10, 10), full_output=True)\n",
    "\n",
    "if (ier == 1):\n",
    "    print(x, y)\n",
    "else:\n",
    "    print('Ошибка при вычислении корня уравнения.')"
   ]
  }
 ],
 "metadata": {
  "kernelspec": {
   "display_name": "Python 3.8.5 64-bit ('base': conda)",
   "language": "python",
   "name": "python385jvsc74a57bd08a49bb684e43ab00106799ded31d49934e1f306b7a86a273670123ff298874f2"
  },
  "language_info": {
   "codemirror_mode": {
    "name": "ipython",
    "version": 3
   },
   "file_extension": ".py",
   "mimetype": "text/x-python",
   "name": "python",
   "nbconvert_exporter": "python",
   "pygments_lexer": "ipython3",
   "version": "3.8.10"
  }
 },
 "nbformat": 4,
 "nbformat_minor": 5
}
