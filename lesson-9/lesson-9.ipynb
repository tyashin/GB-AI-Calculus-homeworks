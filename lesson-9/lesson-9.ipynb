{
 "cells": [
  {
   "cell_type": "markdown",
   "id": "18b87ecc",
   "metadata": {},
   "source": [
    "## <div align=\"center\"> Практическое задание к уроку №9 (в работе) </div>"
   ]
  },
  {
   "cell_type": "markdown",
   "id": "fe7366e5",
   "metadata": {},
   "source": [
    "**1.Вычислить неопределенный интеграл**\n",
    "\n",
    "### $$\\int \\frac{2x+3}{(x-2)(x+5)}\\,dx$$"
   ]
  },
  {
   "cell_type": "markdown",
   "id": "0a6d3578",
   "metadata": {},
   "source": [
    "**Решение:**"
   ]
  },
  {
   "cell_type": "markdown",
   "id": "5b1a0c36",
   "metadata": {},
   "source": [
    "$$\\int \\frac{2x+3}{(x-2)(x+5)}\\,dx = \\int \\frac{1}{x+5} + \\frac{1}{x-2}\\,dx=$$"
   ]
  },
  {
   "cell_type": "markdown",
   "id": "f04ae782",
   "metadata": {},
   "source": [
    "$$= \\int \\frac{1}{x+5}\\,dx + \\int\\frac{1}{x-2}\\,dx=$$"
   ]
  },
  {
   "cell_type": "markdown",
   "id": "6a4c102f",
   "metadata": {},
   "source": [
    "Пусть для функции $\\frac {1}{x+5}$ переменная $m=x+5$ и $\\,dm=dx$, тогда\n",
    "\n",
    "$$\\int \\frac{1}{x+5}\\,dx + \\int\\frac{1}{x-2}\\,dx=\\int \\frac{1}{m}\\,dm + \\int\\frac{1}{x-2}\\,dx=\\ln(m)+\\int\\frac{1}{x-2}\\,dx + C $$"
   ]
  },
  {
   "cell_type": "markdown",
   "id": "411b54b7",
   "metadata": {},
   "source": [
    "Пусть для функции $\\frac {1}{x-2}$ переменная $p=x-2$ и $\\,dp=dx$, тогда\n",
    "\n",
    "$$\\ln(m)+\\int\\frac{1}{x-2}\\,dx + C=\\ln(m)+ \\int \\frac{1}{p}\\,dp + C = \\ln(m)+ \\ln(p) + C$$"
   ]
  },
  {
   "cell_type": "markdown",
   "id": "9d061f49",
   "metadata": {},
   "source": [
    "Теперь выполним обратную замену переменных $m$ и $p$:\n",
    "\n",
    "$$\\ln(m)+ \\ln(p) + C = \\boxed{\\ln(x+5)+ \\ln(x-2) + C}$$"
   ]
  },
  {
   "cell_type": "code",
   "execution_count": 4,
   "id": "152e7d3e",
   "metadata": {},
   "outputs": [],
   "source": [
    "#Проверим решение с помощью библиотеки sympy\n",
    "from sympy import *\n",
    "init_printing()"
   ]
  },
  {
   "cell_type": "code",
   "execution_count": 3,
   "id": "76a328ff",
   "metadata": {},
   "outputs": [
    {
     "data": {
      "image/png": "[encoded data removed]",
      "text/latex": [
       "$\\displaystyle \\frac{2 x + 3}{\\left(x - 2\\right) \\left(x + 5\\right)}$"
      ],
      "text/plain": [
       "    2⋅x + 3    \n",
       "───────────────\n",
       "(x - 2)⋅(x + 5)"
      ]
     },
     "execution_count": 3,
     "metadata": {},
     "output_type": "execute_result"
    }
   ],
   "source": [
    "x=Symbol('x')\n",
    "f=(2*x + 3)/((x-2)*(x+5))\n",
    "f"
   ]
  },
  {
   "cell_type": "code",
   "execution_count": 5,
   "id": "ec347821",
   "metadata": {},
   "outputs": [
    {
     "data": {
      "image/png": "[encoded data removed]",
      "text/latex": [
       "$\\displaystyle \\log{\\left(x^{2} + 3 x - 10 \\right)}$"
      ],
      "text/plain": [
       "   ⎛ 2           ⎞\n",
       "log⎝x  + 3⋅x - 10⎠"
      ]
     },
     "execution_count": 5,
     "metadata": {},
     "output_type": "execute_result"
    }
   ],
   "source": [
    "integrate(f,x)## в данном случае имеется в виду натуральных логарифм. Так же не учитывается константа."
   ]
  },
  {
   "cell_type": "markdown",
   "id": "718b23b9",
   "metadata": {},
   "source": [
    "Из свойствов логарифмов получаем:\n",
    "$$\\ln(x^2 + 3x-10)+C=\\boxed{\\ln(x+5)+ \\ln(x-2) + C}$$"
   ]
  },
  {
   "cell_type": "markdown",
   "id": "23da6e78",
   "metadata": {},
   "source": [
    "** **"
   ]
  },
  {
   "cell_type": "markdown",
   "id": "80558f6c",
   "metadata": {},
   "source": [
    "**2. Вычислить неопределенный интеграл**\n",
    "\n",
    "### $$\\int e^{2x}\\cos 3x\\,dx$$"
   ]
  },
  {
   "cell_type": "markdown",
   "id": "3fefedc0",
   "metadata": {},
   "source": []
  },
  {
   "cell_type": "markdown",
   "id": "f500aec0",
   "metadata": {},
   "source": [
    "__3.__ Вычислить определенный интеграл\n",
    "\n",
    "### $$\\int\\limits_0^{\\ln2} xe^{-x}\\,dx$$"
   ]
  },
  {
   "cell_type": "markdown",
   "id": "486e2d51",
   "metadata": {},
   "source": []
  },
  {
   "cell_type": "markdown",
   "id": "9142fa9c",
   "metadata": {},
   "source": [
    "__4.__ Вычислить несобственный интеграл\n",
    "\n",
    "### $$\\int\\limits_2^{+\\infty} \\frac{dx}{x^2+x-2}$$"
   ]
  },
  {
   "cell_type": "markdown",
   "id": "c0bf6859",
   "metadata": {},
   "source": []
  },
  {
   "cell_type": "markdown",
   "id": "3e20ab57",
   "metadata": {},
   "source": []
  },
  {
   "cell_type": "markdown",
   "id": "0b031a27",
   "metadata": {},
   "source": []
  },
  {
   "cell_type": "markdown",
   "id": "5f7ff9db",
   "metadata": {},
   "source": []
  }
 ],
 "metadata": {
  "kernelspec": {
   "display_name": "Python 3.8.5 64-bit ('base': conda)",
   "language": "python",
   "name": "python385jvsc74a57bd08a49bb684e43ab00106799ded31d49934e1f306b7a86a273670123ff298874f2"
  },
  "language_info": {
   "codemirror_mode": {
    "name": "ipython",
    "version": 3
   },
   "file_extension": ".py",
   "mimetype": "text/x-python",
   "name": "python",
   "nbconvert_exporter": "python",
   "pygments_lexer": "ipython3",
   "version": "3.8.10"
  }
 },
 "nbformat": 4,
 "nbformat_minor": 5
}
