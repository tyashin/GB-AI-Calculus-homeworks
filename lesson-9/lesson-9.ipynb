{
 "cells": [
  {
   "cell_type": "markdown",
   "id": "18b87ecc",
   "metadata": {},
   "source": [
    "## <div align=\"center\"> Практическое задание к уроку №9 (в работе) </div>"
   ]
  },
  {
   "cell_type": "markdown",
   "id": "fe7366e5",
   "metadata": {},
   "source": [
    "__1.__ Вычислить неопределенный интеграл\n",
    "\n",
    "### $$\\int \\frac{2x+3}{(x-2)(x+5)}\\,dx$$"
   ]
  },
  {
   "cell_type": "markdown",
   "id": "0a6d3578",
   "metadata": {},
   "source": []
  },
  {
   "cell_type": "markdown",
   "id": "80558f6c",
   "metadata": {},
   "source": [
    "__2.__ Вычислить неопределенный интеграл\n",
    "\n",
    "### $$\\int e^{2x}\\cos 3x\\,dx$$"
   ]
  },
  {
   "cell_type": "markdown",
   "id": "3fefedc0",
   "metadata": {},
   "source": []
  },
  {
   "cell_type": "markdown",
   "id": "f500aec0",
   "metadata": {},
   "source": [
    "__3.__ Вычислить определенный интеграл\n",
    "\n",
    "### $$\\int\\limits_0^{\\ln2} xe^{-x}\\,dx$$"
   ]
  },
  {
   "cell_type": "markdown",
   "id": "486e2d51",
   "metadata": {},
   "source": []
  },
  {
   "cell_type": "markdown",
   "id": "9142fa9c",
   "metadata": {},
   "source": [
    "__4.__ Вычислить несобственный интеграл\n",
    "\n",
    "### $$\\int\\limits_2^{+\\infty} \\frac{dx}{x^2+x-2}$$"
   ]
  },
  {
   "cell_type": "markdown",
   "id": "c0bf6859",
   "metadata": {},
   "source": []
  },
  {
   "cell_type": "markdown",
   "id": "3e20ab57",
   "metadata": {},
   "source": []
  },
  {
   "cell_type": "markdown",
   "id": "0b031a27",
   "metadata": {},
   "source": []
  },
  {
   "cell_type": "markdown",
   "id": "5f7ff9db",
   "metadata": {},
   "source": []
  }
 ],
 "metadata": {
  "kernelspec": {
   "display_name": "Python 3.8.5 64-bit ('base': conda)",
   "language": "python",
   "name": "python385jvsc74a57bd08a49bb684e43ab00106799ded31d49934e1f306b7a86a273670123ff298874f2"
  },
  "language_info": {
   "codemirror_mode": {
    "name": "ipython",
    "version": 3
   },
   "file_extension": ".py",
   "mimetype": "text/x-python",
   "name": "python",
   "nbconvert_exporter": "python",
   "pygments_lexer": "ipython3",
   "version": "3.8.10"
  }
 },
 "nbformat": 4,
 "nbformat_minor": 5
}
