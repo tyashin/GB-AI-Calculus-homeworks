{
 "cells": [
  {
   "cell_type": "markdown",
   "id": "18b87ecc",
   "metadata": {},
   "source": [
    "## <div align=\"center\"> Практическое задание к уроку №9 (в работе) </div>"
   ]
  },
  {
   "cell_type": "markdown",
   "id": "fe7366e5",
   "metadata": {},
   "source": [
    "**1.Вычислить неопределенный интеграл**\n",
    "\n",
    "### $$\\int \\frac{2x+3}{(x-2)(x+5)}\\,dx$$"
   ]
  },
  {
   "cell_type": "markdown",
   "id": "0a6d3578",
   "metadata": {},
   "source": [
    "**Решение:**"
   ]
  },
  {
   "cell_type": "markdown",
   "id": "60dcb74b",
   "metadata": {},
   "source": [
    "$$\\int \\frac{2x+3}{(x-2)(x+5)}\\,dx = \\int \\frac{1}{x+5} + \\frac{1}{x-2}\\,dx=$$"
   ]
  },
  {
   "cell_type": "markdown",
   "id": "fd6462e9",
   "metadata": {},
   "source": [
    "$$= \\int \\frac{1}{x+5}\\,dx + \\int\\frac{1}{x-2}\\,dx=$$"
   ]
  },
  {
   "cell_type": "markdown",
   "id": "882da3ee",
   "metadata": {},
   "source": [
    "Пусть для функции $\\frac {1}{x+5}$ переменная $m=x+5$ и $\\,dm=dx$, тогда\n",
    "\n",
    "$$\\int \\frac{1}{x+5}\\,dx + \\int\\frac{1}{x-2}\\,dx=\\int \\frac{1}{m}\\,dm + \\int\\frac{1}{x-2}\\,dx=\\ln(m)+\\int\\frac{1}{x-2}\\,dx + C $$"
   ]
  },
  {
   "cell_type": "markdown",
   "id": "32a575b0",
   "metadata": {},
   "source": [
    "Пусть для функции $\\frac {1}{x-2}$ переменная $p=x-2$ и $\\,dp=dx$, тогда\n",
    "\n",
    "$$\\ln(m)+\\int\\frac{1}{x-2}\\,dx + C=\\ln(m)+ \\int \\frac{1}{p}\\,dp + C = \\ln(m)+ \\ln(p) + C$$"
   ]
  },
  {
   "cell_type": "markdown",
   "id": "e8cac14a",
   "metadata": {},
   "source": [
    "Теперь выполним обратную замену переменных $m$ и $p$:\n",
    "\n",
    "$$\\ln(m)+ \\ln(p) + C = \\boxed{\\ln(x+5)+ \\ln(x-2) + C}$$"
   ]
  },
  {
   "cell_type": "code",
   "execution_count": 7,
   "id": "f08dada1",
   "metadata": {},
   "outputs": [],
   "source": [
    "#Проверим решение с помощью библиотеки sympy\n",
    "from sympy import *\n",
    "init_printing()"
   ]
  },
  {
   "cell_type": "code",
   "execution_count": 17,
   "id": "eedb731b",
   "metadata": {},
   "outputs": [
    {
     "data": {
      "image/png": "[encoded data removed]",
      "text/latex": [
       "$\\displaystyle \\frac{2 x + 3}{\\left(x - 2\\right) \\left(x + 5\\right)}$"
      ],
      "text/plain": [
       "    2⋅x + 3    \n",
       "───────────────\n",
       "(x - 2)⋅(x + 5)"
      ]
     },
     "execution_count": 17,
     "metadata": {},
     "output_type": "execute_result"
    }
   ],
   "source": [
    "x=Symbol('x')\n",
    "f=(2*x + 3)/((x-2)*(x+5))\n",
    "f"
   ]
  },
  {
   "cell_type": "code",
   "execution_count": 18,
   "id": "04b1daf0",
   "metadata": {},
   "outputs": [
    {
     "data": {
      "image/png": "[encoded data removed]",
      "text/latex": [
       "$\\displaystyle \\log{\\left(x^{2} + 3 x - 10 \\right)}$"
      ],
      "text/plain": [
       "   ⎛ 2           ⎞\n",
       "log⎝x  + 3⋅x - 10⎠"
      ]
     },
     "execution_count": 18,
     "metadata": {},
     "output_type": "execute_result"
    }
   ],
   "source": [
    "integrate(f,x)## в данном случае имеется в виду натуральный логарифм. Также не учитывается константа."
   ]
  },
  {
   "cell_type": "markdown",
   "id": "ebf0520e",
   "metadata": {},
   "source": [
    "Из свойствов логарифмов получаем:\n",
    "$$\\ln(x^2 + 3x-10)+C=\\boxed{\\ln(x+5)+ \\ln(x-2) + C}$$"
   ]
  },
  {
   "cell_type": "markdown",
   "id": "036dbfe2",
   "metadata": {},
   "source": [
    "** **"
   ]
  },
  {
   "cell_type": "markdown",
   "id": "80558f6c",
   "metadata": {},
   "source": [
    "**2. Вычислить неопределенный интеграл**\n",
    "\n",
    "### $$\\int e^{2x}\\cos 3x\\,dx$$"
   ]
  },
  {
   "cell_type": "markdown",
   "id": "3fefedc0",
   "metadata": {},
   "source": [
    "Проинтегрируем функцию $e^{2x}\\cos 3x$ по частям:"
   ]
  },
  {
   "cell_type": "markdown",
   "id": "4f33ef31",
   "metadata": {},
   "source": [
    "$\\int f\\,dg= fg - \\int g\\,df$, где $f=cos(3x)$ и $dg = e^{2x}\\, dx$, тогда\n",
    "\n",
    "\n",
    "$$df = -3sin(3x) \\, dx$$\n",
    "\n",
    "$$g=\\frac{e^{2x}}{2}$$\n",
    "\n",
    "$$\\int e^{2x}\\cos 3x\\,dx = \\frac{1}{2}e^{2x}\\cdot cos(3x) + \\frac{3}{2} \\int e^{2x}sin(3x) \\, dx$$\n"
   ]
  },
  {
   "cell_type": "markdown",
   "id": "5fa6bef3",
   "metadata": {},
   "source": [
    "Проинтегрируем функцию $ e^{2x}sin(3x)$ по частям:"
   ]
  },
  {
   "cell_type": "markdown",
   "id": "3ba761a5",
   "metadata": {},
   "source": [
    "$\\int f\\,dg= fg - \\int g\\,df$, где $f=sin(3x)$ и $dg = e^{2x}\\, dx$, тогда\n",
    "\n",
    "$$df = 3cos(3x) \\, dx$$\n",
    "\n",
    "$$g=\\frac{e^{2x}}{2}$$\n",
    "\n",
    "$$\\int e^{2x}\\cos 3x\\,dx= \\frac{1}{2}e^{2x}\\cdot cos(3x) + \\frac{3}{4}e^{2x}\\cdot sin(3x) - \\frac{9}{4} \\int e^{2x}cos(3x) \\, dx=$$\n",
    "\n",
    "$$=\\boxed{\\frac{1}{13}e^{2x}\\cdot (3sin(3x)+2cos(3x)) + C}$$"
   ]
  },
  {
   "cell_type": "code",
   "execution_count": 8,
   "id": "5b5500af",
   "metadata": {},
   "outputs": [],
   "source": [
    "#Проверим решение с помощью библиотеки sympy\n",
    "from sympy import *\n",
    "init_printing()"
   ]
  },
  {
   "cell_type": "code",
   "execution_count": 14,
   "id": "e3c401ae",
   "metadata": {},
   "outputs": [
    {
     "data": {
      "image/png": "[encoded data removed]",
      "text/latex": [
       "$\\displaystyle e^{2 x} \\cos{\\left(3 x \\right)}$"
      ],
      "text/plain": [
       " 2⋅x         \n",
       "ℯ   ⋅cos(3⋅x)"
      ]
     },
     "execution_count": 14,
     "metadata": {},
     "output_type": "execute_result"
    }
   ],
   "source": [
    "x=Symbol('x')\n",
    "f=(E**(2*x) * cos(3*x))\n",
    "f"
   ]
  },
  {
   "cell_type": "code",
   "execution_count": 16,
   "id": "ce042d79",
   "metadata": {},
   "outputs": [
    {
     "data": {
      "image/png": "[encoded data removed]",
      "text/latex": [
       "$\\displaystyle \\frac{3 e^{2 x} \\sin{\\left(3 x \\right)}}{13} + \\frac{2 e^{2 x} \\cos{\\left(3 x \\right)}}{13}$"
      ],
      "text/plain": [
       "   2⋅x               2⋅x         \n",
       "3⋅ℯ   ⋅sin(3⋅x)   2⋅ℯ   ⋅cos(3⋅x)\n",
       "─────────────── + ───────────────\n",
       "       13                13      "
      ]
     },
     "execution_count": 16,
     "metadata": {},
     "output_type": "execute_result"
    }
   ],
   "source": [
    "integrate(f,x)## в данном случае имеется в виду натуральный логарифм. Также не учитывается константа."
   ]
  },
  {
   "cell_type": "markdown",
   "id": "6344dbdc",
   "metadata": {},
   "source": [
    "Видно, что результаты вычисления вручную и с помощью библиотеки sympy равны."
   ]
  },
  {
   "cell_type": "markdown",
   "id": "18b8f54a",
   "metadata": {},
   "source": [
    "** **"
   ]
  },
  {
   "cell_type": "markdown",
   "id": "f500aec0",
   "metadata": {},
   "source": [
    "__3.__ Вычислить определенный интеграл\n",
    "\n",
    "### $$\\int\\limits_0^{\\ln2} xe^{-x}\\,dx$$"
   ]
  },
  {
   "cell_type": "markdown",
   "id": "486e2d51",
   "metadata": {},
   "source": []
  },
  {
   "cell_type": "markdown",
   "id": "9142fa9c",
   "metadata": {},
   "source": [
    "__4.__ Вычислить несобственный интеграл\n",
    "\n",
    "### $$\\int\\limits_2^{+\\infty} \\frac{dx}{x^2+x-2}$$"
   ]
  },
  {
   "cell_type": "markdown",
   "id": "c0bf6859",
   "metadata": {},
   "source": []
  },
  {
   "cell_type": "markdown",
   "id": "3e20ab57",
   "metadata": {},
   "source": []
  },
  {
   "cell_type": "markdown",
   "id": "0b031a27",
   "metadata": {},
   "source": []
  },
  {
   "cell_type": "markdown",
   "id": "5f7ff9db",
   "metadata": {},
   "source": []
  }
 ],
 "metadata": {
  "kernelspec": {
   "display_name": "Python 3.8.5 64-bit ('base': conda)",
   "language": "python",
   "name": "python385jvsc74a57bd08a49bb684e43ab00106799ded31d49934e1f306b7a86a273670123ff298874f2"
  },
  "language_info": {
   "codemirror_mode": {
    "name": "ipython",
    "version": 3
   },
   "file_extension": ".py",
   "mimetype": "text/x-python",
   "name": "python",
   "nbconvert_exporter": "python",
   "pygments_lexer": "ipython3",
   "version": "3.8.10"
  }
 },
 "nbformat": 4,
 "nbformat_minor": 5
}
