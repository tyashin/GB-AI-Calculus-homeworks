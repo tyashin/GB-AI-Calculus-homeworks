{
 "cells": [
  {
   "cell_type": "markdown",
   "metadata": {
    "id": "aU5YNMH9kVqP"
   },
   "source": [
    "## Практическое задание"
   ]
  },
  {
   "cell_type": "markdown",
   "metadata": {
    "id": "SmdURZ_OkVqQ"
   },
   "source": [
    "__1.__ Найти предел последовательности:\n",
    "\n",
    "### $$а)\\,\\,\\,\\,\\lim_{n\\to \\infty} \\frac{(23-2n^2)(3n^2+17)^2}{4n^6+n-1}$$\n",
    "\n",
    "### $$б)\\,\\,\\,\\,\\lim_{n\\to \\infty} \\frac{(97-2n)^3}{2n(3n^2+15)+8n}$$\n",
    "\n",
    "### $$в)\\,\\,\\,\\,\\lim_{n\\to \\infty} \\frac{2n^3+13n(n+18)}{(27-n)(2n+19)^2}$$\n",
    "\n",
    "### $$г)\\,\\,\\,\\,\\lim_{n\\to \\infty} (\\sqrt{n^2+1}-n)$$\n",
    "\n",
    "### $$д)\\,\\,\\,\\,\\lim_{n\\to \\infty} \\frac{(-4)^n+5\\cdot7^n}{(-4)^{n-1}+7^{n+2}}$$\n",
    "\n",
    "### $$e)^*\\,\\,\\,\\,\\lim_{n\\to \\infty} \\Bigl(\\frac{1}{1\\cdot2}+\\frac{1}{2\\cdot3}+\\frac{1}{3\\cdot4}+...+\\frac{1}{(n-1)\\cdot n}\\Bigr)$$"
   ]
  },
  {
   "cell_type": "markdown",
   "metadata": {
    "id": "U7nB-PQaI9UL"
   },
   "source": [
    "__2.__ Представьте $1$ в виде суммы трех рациональных дробей с разными знаменателями и числителем равным $1$."
   ]
  },
  {
   "cell_type": "markdown",
   "metadata": {
    "id": "tCoNtjxgI9UL"
   },
   "source": [
    "__3$^*$.__ Тоже задание, только в виде суммы шести дробей."
   ]
  },
  {
   "cell_type": "markdown",
   "metadata": {
    "id": "optrtoUHI9UM"
   },
   "source": [
    "__4.__ Пользуясь критерием Коши, докажите сходимость последовательности:\n",
    "\n",
    "### $$a_n=\\frac{\\sin1}{2}+\\frac{\\sin2}{2^2}+\\frac{\\sin3}{2^3}+..\\frac{\\sin n}{2^n}\\,\\,\\,\\,\\,\\Rightarrow$$\n",
    "\n",
    "### $$\\Bigl\\{a_n\\Bigr\\}_{n=1}^\\infty=\\Bigl\\{\\frac{\\sin1}{2}, \\frac{\\sin1}{2}+\\frac{\\sin2}{2^2}, ..., a_n,...\\Bigr\\}$$\n",
    "\n",
    "\n",
    "$^*$ Какой член последовательности можно взять в качестве предела с точностью $\\varepsilon=10^{-7}$?"
   ]
  },
  {
   "cell_type": "markdown",
   "metadata": {
    "id": "a2r-dr5MI9UM"
   },
   "source": [
    "__5$^*$.__  Пользуясь критерием Коши, докажите расходимость последовательности:\n",
    "\n",
    "### $$b_n=1+\\frac{1}{2}+\\frac{1}{3}+..\\frac{1}{n}\\,\\,\\,\\,\\,\\Rightarrow$$\n",
    "\n",
    "### $$\\Bigl\\{b_n\\Bigr\\}_{n=1}^\\infty=\\Bigl\\{1, 1+\\frac{1}{2},1+\\frac{1}{2}+\\frac{1}{3}, ..., b_n,...\\Bigr\\}$$"
   ]
  }
 ],
 "metadata": {
  "colab": {
   "collapsed_sections": [],
   "name": "Lesson_3.ipynb",
   "provenance": []
  },
  "kernelspec": {
   "display_name": "Python 3 (ipykernel)",
   "language": "python",
   "name": "python3"
  },
  "language_info": {
   "codemirror_mode": {
    "name": "ipython",
    "version": 3
   },
   "file_extension": ".py",
   "mimetype": "text/x-python",
   "name": "python",
   "nbconvert_exporter": "python",
   "pygments_lexer": "ipython3",
   "version": "3.8.10"
  }
 },
 "nbformat": 4,
 "nbformat_minor": 1
}
