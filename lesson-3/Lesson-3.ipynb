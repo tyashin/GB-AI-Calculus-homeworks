{
 "cells": [
  {
   "cell_type": "markdown",
   "metadata": {
    "id": "aU5YNMH9kVqP"
   },
   "source": [
    "## <div align=\"center\"> Практическое задание уроку №3 </div>"
   ]
  },
  {
   "cell_type": "markdown",
   "metadata": {},
   "source": [
    " "
   ]
  },
  {
   "cell_type": "markdown",
   "metadata": {},
   "source": [
    "**1. Найти предел последовательности:**"
   ]
  },
  {
   "cell_type": "markdown",
   "metadata": {},
   "source": [
    "### $$а)\\lim_{n\\to \\infty} \\frac{(23-2n^2)(3n^2+17)^2}{4n^6+n-1}$$"
   ]
  },
  {
   "cell_type": "markdown",
   "metadata": {},
   "source": [
    "$$\\lim_{n\\to \\infty} \\frac{(23-2n^2)(3n^2+17)^2}{4n^6+n-1} \\implies \\frac{-2n^2 (3n^2)^2}{4n^6} \\implies - \\frac{18}{4} = \\boxed{- \\frac{9}{2}}$$"
   ]
  },
  {
   "cell_type": "markdown",
   "metadata": {},
   "source": [
    "### $$б)\\lim_{n\\to \\infty} \\frac{(97-2n)^3}{2n(3n^2+15)+8n}$$"
   ]
  },
  {
   "cell_type": "markdown",
   "metadata": {},
   "source": [
    "$$\\lim_{n\\to \\infty} \\frac{(97-2n)^3}{2n(3n^2+15)+8n} \\implies \\frac{(-2n)^3}{6n^3} \\implies \\boxed{ - \\frac{4}{3}}$$"
   ]
  },
  {
   "cell_type": "markdown",
   "metadata": {},
   "source": [
    "### $$в)\\lim_{n\\to \\infty} \\frac{2n^3+13n(n+18)}{(27-n)(2n+19)^2}$$"
   ]
  },
  {
   "cell_type": "markdown",
   "metadata": {},
   "source": [
    "$$\\lim_{n\\to \\infty} \\frac{2n^3+13n(n+18)}{(27-n)(2n+19)^2} \\implies - \\frac{2n^3}{4n^3} = \\boxed{- \\frac{1}{2}}$$"
   ]
  },
  {
   "cell_type": "markdown",
   "metadata": {},
   "source": [
    "### $$г)\\lim_{n\\to \\infty} (\\sqrt{n^2+1}-n)$$"
   ]
  },
  {
   "cell_type": "markdown",
   "metadata": {},
   "source": [
    "$$\\lim_{n\\to \\infty} (\\sqrt{n^2+1}-n) = \\lim_{n\\to \\infty} \\frac{n^2+1-n^2}{\\sqrt{n^2+1}+n} = \\lim_{n\\to \\infty}\\frac{1}{\\infty} = \\boxed{0}$$ "
   ]
  },
  {
   "cell_type": "markdown",
   "metadata": {},
   "source": [
    "### $$д)\\lim_{n\\to \\infty} \\frac{(-4)^n+5\\cdot7^n}{(-4)^{n-1}+7^{n+2}}$$"
   ]
  },
  {
   "cell_type": "markdown",
   "metadata": {},
   "source": [
    "$$\\lim_{n\\to \\infty} \\frac{(-4)^n+5\\cdot7^n}{(-4)^{n-1}+7^{n+2}} = \\lim_{n\\to \\infty} \\frac{7^n ((-\\frac{4}{7})^n+5)}{7^n ((-\\frac{1}{4}) (-\\frac{4}{7})^n+49)}=\\boxed{\\frac{5}{49}}$$ "
   ]
  },
  {
   "cell_type": "markdown",
   "metadata": {},
   "source": [
    "**2. Представьте 1 в виде суммы трех рациональных дробей с разными знаменателями и числителем равным 1.**"
   ]
  },
  {
   "cell_type": "markdown",
   "metadata": {},
   "source": [
    "$$ \\boxed{1 = \\frac{1}{2} + \\frac{1}{3} + \\frac{1}{6}} $$"
   ]
  },
  {
   "cell_type": "markdown",
   "metadata": {
    "id": "SmdURZ_OkVqQ"
   },
   "source": [
    "**4. Пользуясь критерием Коши, докажите сходимость последовательности:**\n",
    "\n",
    "### $$a_n=\\frac{\\sin1}{2}+\\frac{\\sin2}{2^2}+\\frac{\\sin3}{2^3}+..\\frac{\\sin n}{2^n}\\,\\,\\,\\,\\,\\Rightarrow$$\n",
    "\n",
    "### $$\\Bigl\\{a_n\\Bigr\\}_{n=1}^\\infty=\\Bigl\\{\\frac{\\sin1}{2}, \\frac{\\sin1}{2}+\\frac{\\sin2}{2^2}, ..., a_n,...\\Bigr\\}$$"
   ]
  },
  {
   "cell_type": "markdown",
   "metadata": {
    "id": "U7nB-PQaI9UL"
   },
   "source": [
    "$$Критерий Коши: \\forall\\varepsilon>0\\,\\,\\,\\exists N(\\varepsilon), \\,\\,\\,\\forall n>N(\\varepsilon)\\,\\,\\,\\forall k\\geq1:|a_n-a_{n+k}|<\\varepsilon$$"
   ]
  },
  {
   "cell_type": "markdown",
   "metadata": {},
   "source": [
    "$$Докажем, что\\hspace{3mm}  |a_n-a_{n+k}|<\\varepsilon \\hspace{3mm} и \\hspace{3mm} \\exists N(\\varepsilon)$$"
   ]
  },
  {
   "cell_type": "markdown",
   "metadata": {},
   "source": [
    "$$|a_n-a_{n+k}|=\\Bigl|\\frac{\\sin(n+1)}{2^{n+1}}+..+\\frac{\\sin (n+k)}{2^{n+k}}\\Bigr|< \\Bigl|\\frac{1}{2^{n+1}}+..+\\frac{1}{2^{n+k}}\\Bigr|$$"
   ]
  },
  {
   "cell_type": "markdown",
   "metadata": {},
   "source": [
    "### ..."
   ]
  }
 ],
 "metadata": {
  "colab": {
   "collapsed_sections": [],
   "name": "Lesson_3.ipynb",
   "provenance": []
  },
  "kernelspec": {
   "display_name": "Python 3 (ipykernel)",
   "language": "python",
   "name": "python3"
  },
  "language_info": {
   "codemirror_mode": {
    "name": "ipython",
    "version": 3
   },
   "file_extension": ".py",
   "mimetype": "text/x-python",
   "name": "python",
   "nbconvert_exporter": "python",
   "pygments_lexer": "ipython3",
   "version": "3.8.10"
  }
 },
 "nbformat": 4,
 "nbformat_minor": 1
}
