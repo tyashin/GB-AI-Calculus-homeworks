{
 "cells": [
  {
   "cell_type": "markdown",
   "id": "8a08d1a4",
   "metadata": {},
   "source": [
    "## <div align=\"center\"> Практическое задание к уроку №6 (в работе до 07.12.'21) </div>"
   ]
  },
  {
   "cell_type": "markdown",
   "id": "07c7fc82",
   "metadata": {},
   "source": [
    "## "
   ]
  },
  {
   "cell_type": "markdown",
   "id": "b6f00e57",
   "metadata": {},
   "source": [
    "#### **1.** Найти производную y'<sub>x</sub> функции:\n",
    "\n",
    "### $$\\mbox{arctg}(\\frac{y}{x})=\\ln \\sqrt{x^2+y^2}$$"
   ]
  },
  {
   "cell_type": "code",
   "execution_count": 1,
   "id": "5ca446d7",
   "metadata": {},
   "outputs": [
    {
     "data": {
      "image/png": "[encoded data removed]",
      "text/latex": [
       "$\\displaystyle \\log{\\left(\\sqrt{x^{2} + y^{2}} \\right)} - \\operatorname{atan}{\\left(\\frac{y}{x} \\right)}$"
      ],
      "text/plain": [
       "   ⎛   _________⎞          \n",
       "   ⎜  ╱  2    2 ⎟       ⎛y⎞\n",
       "log⎝╲╱  x  + y  ⎠ - atan⎜─⎟\n",
       "                        ⎝x⎠"
      ]
     },
     "execution_count": 1,
     "metadata": {},
     "output_type": "execute_result"
    }
   ],
   "source": [
    "# Поиск производной неявной функции с помощью Sympy\n",
    "from sympy import *\n",
    "init_printing()\n",
    "\n",
    "x,y=symbols('x y')\n",
    "f= ln(sqrt(x**2 + y**2)) - atan(y/x)\n",
    "f"
   ]
  },
  {
   "cell_type": "code",
   "execution_count": 2,
   "id": "14f5d73e",
   "metadata": {},
   "outputs": [
    {
     "data": {
      "image/png": "[encoded data removed]",
      "text/latex": [
       "$\\displaystyle \\frac{- \\frac{x}{x^{2} + y^{2}} - \\frac{y}{x^{2} \\left(1 + \\frac{y^{2}}{x^{2}}\\right)}}{\\frac{y}{x^{2} + y^{2}} - \\frac{1}{x \\left(1 + \\frac{y^{2}}{x^{2}}\\right)}}$"
      ],
      "text/plain": [
       "     x           y     \n",
       "- ─────── - ───────────\n",
       "   2    2      ⎛     2⎞\n",
       "  x  + y     2 ⎜    y ⎟\n",
       "            x ⋅⎜1 + ──⎟\n",
       "               ⎜     2⎟\n",
       "               ⎝    x ⎠\n",
       "───────────────────────\n",
       "     y          1      \n",
       "  ─────── - ────────── \n",
       "   2    2     ⎛     2⎞ \n",
       "  x  + y      ⎜    y ⎟ \n",
       "            x⋅⎜1 + ──⎟ \n",
       "              ⎜     2⎟ \n",
       "              ⎝    x ⎠ "
      ]
     },
     "execution_count": 2,
     "metadata": {},
     "output_type": "execute_result"
    }
   ],
   "source": [
    "-diff(f,x) / diff(f,y)"
   ]
  },
  {
   "cell_type": "markdown",
   "id": "a4a1837a",
   "metadata": {},
   "source": [
    "Немного упростив выражение, получаем:\n",
    "\n",
    "### $$y'_{x}=\\frac{-x^3 - xy^2 - x^2y - y^3}{x^2y + y^3-x^3-xy^2} = \\boxed{\\frac{-(x+y)^3 - 2xy(y+x)}{(y-x)^3 + 2xy(y-x)}}$$"
   ]
  },
  {
   "cell_type": "markdown",
   "id": "b7b49e07",
   "metadata": {},
   "source": [
    "#### __2.__ Найти производную y'<sub>x</sub> функции:\n",
    "\n",
    "\n",
    "### <img width=\"150\" src=\"https://render.githubusercontent.com/render/math?math=\\begin{cases}y=\\frac{t^2}{t-1},\\\\x=\\frac{t}{t^2-1}\\end{cases}\">"
   ]
  },
  {
   "cell_type": "markdown",
   "id": "741ce934",
   "metadata": {},
   "source": [
    "Воспользуемся уравнением производной парамерической функции:\n",
    "### $$y'_{x}=\\frac{y'_{t}}{x'_{t}}$$"
   ]
  },
  {
   "cell_type": "markdown",
   "id": "900779bb",
   "metadata": {},
   "source": [
    ", а также формулой производной от частного:\n",
    "### $$\\Bigl(\\frac{U}{V}\\Bigr)'=\\frac{U'\\cdot V-U\\cdot V'}{V^2}$$\n"
   ]
  },
  {
   "cell_type": "markdown",
   "id": "90cde2e1",
   "metadata": {},
   "source": [
    "### $$\\boxed{y'_{x}= \\frac{t^2-2t}{(t-1)^2} \\cdot \\frac{(t^2-1)^2}{-t^2-1}}$$"
   ]
  },
  {
   "cell_type": "markdown",
   "id": "225d874c",
   "metadata": {},
   "source": [
    "#### __3.__ Найти производную с помощью логарифмирования:\n",
    "\n",
    "### $$y=(x^2+2)^5\\cdot(3x-x^3)^3$$"
   ]
  },
  {
   "cell_type": "markdown",
   "id": "ec497cd4",
   "metadata": {},
   "source": [
    "Вычислим производную по формулам:\n",
    "### $$y'=f(x)\\cdot (\\ln f(x))'$$\n",
    "\n",
    "и\n",
    "\n",
    "### $$(\\ln x)'=\\frac{1}{x}$$\n",
    "\n",
    ", а также\n",
    "\n",
    "### $$f'(g(x))=f'\\cdot g'$$\n",
    "\n",
    "с помощью Sympy:"
   ]
  },
  {
   "cell_type": "code",
   "execution_count": 3,
   "id": "81b8a099",
   "metadata": {},
   "outputs": [
    {
     "data": {
      "image/png": "[encoded data removed]",
      "text/latex": [
       "$\\displaystyle \\left(x^{2} + 2\\right)^{5} \\left(- x^{3} + 3 x\\right)^{3}$"
      ],
      "text/plain": [
       "        5             3\n",
       "⎛ 2    ⎞  ⎛   3      ⎞ \n",
       "⎝x  + 2⎠ ⋅⎝- x  + 3⋅x⎠ "
      ]
     },
     "execution_count": 3,
     "metadata": {},
     "output_type": "execute_result"
    }
   ],
   "source": [
    "from sympy import *\n",
    "init_printing()\n",
    "x=Symbol('x')\n",
    "\n",
    "y=(x**2 + 2)**5 * (3*x - x**3)**3\n",
    "y"
   ]
  },
  {
   "cell_type": "code",
   "execution_count": 4,
   "id": "16a5a921",
   "metadata": {},
   "outputs": [
    {
     "data": {
      "image/png": "[encoded data removed]",
      "text/latex": [
       "$\\displaystyle 10 x \\left(x^{2} + 2\\right)^{4} \\left(- x^{3} + 3 x\\right)^{3} + \\left(9 - 9 x^{2}\\right) \\left(x^{2} + 2\\right)^{5} \\left(- x^{3} + 3 x\\right)^{2}$"
      ],
      "text/plain": [
       "             4             3                      5             2\n",
       "     ⎛ 2    ⎞  ⎛   3      ⎞    ⎛       2⎞ ⎛ 2    ⎞  ⎛   3      ⎞ \n",
       "10⋅x⋅⎝x  + 2⎠ ⋅⎝- x  + 3⋅x⎠  + ⎝9 - 9⋅x ⎠⋅⎝x  + 2⎠ ⋅⎝- x  + 3⋅x⎠ "
      ]
     },
     "execution_count": 4,
     "metadata": {},
     "output_type": "execute_result"
    }
   ],
   "source": [
    "diff(y,x)"
   ]
  },
  {
   "cell_type": "markdown",
   "id": "6d3ac2bd",
   "metadata": {},
   "source": [
    "#### __4.__ Найти производную функции с помощью логарифмирования:\n",
    "\n",
    "### $$y=x^x$$"
   ]
  },
  {
   "cell_type": "code",
   "execution_count": 5,
   "id": "56e2f89e",
   "metadata": {},
   "outputs": [
    {
     "data": {
      "image/png": "[encoded data removed]",
      "text/latex": [
       "$\\displaystyle x^{x}$"
      ],
      "text/plain": [
       " x\n",
       "x "
      ]
     },
     "execution_count": 5,
     "metadata": {},
     "output_type": "execute_result"
    }
   ],
   "source": [
    "# Поступим  аналогично решению задачи №3.\n",
    "\n",
    "x=Symbol('x')\n",
    "y=(x**x)\n",
    "y"
   ]
  },
  {
   "cell_type": "code",
   "execution_count": 6,
   "id": "f8c5dd42",
   "metadata": {},
   "outputs": [
    {
     "data": {
      "image/png": "[encoded data removed]",
      "text/latex": [
       "$\\displaystyle x^{x} \\left(\\log{\\left(x \\right)} + 1\\right)$"
      ],
      "text/plain": [
       " x             \n",
       "x ⋅(log(x) + 1)"
      ]
     },
     "execution_count": 6,
     "metadata": {},
     "output_type": "execute_result"
    }
   ],
   "source": [
    "diff(y,x)"
   ]
  },
  {
   "cell_type": "markdown",
   "id": "8381645c",
   "metadata": {},
   "source": [
    "**, а теперь проверим решение вручную:**\n",
    "\n",
    "### $$y'=x^x(x\\ln x)'=x^x(\\ln x+\\frac{x}{x})=\\boxed{x^x(\\ln x+1)}$$"
   ]
  },
  {
   "cell_type": "markdown",
   "id": "6d6da00b",
   "metadata": {},
   "source": [
    "#### __5.__ Найти производную функции с помощью логарифмирования:\n",
    "\n",
    "### $$y=\\frac{(2-x^2)^3\\cdot(x-1)^2}{(2x^3-3x)\\cdot e^x}$$"
   ]
  },
  {
   "cell_type": "markdown",
   "id": "3ed5d801",
   "metadata": {},
   "source": [
    "Сначала решим задачу при помощи Sympy"
   ]
  },
  {
   "cell_type": "code",
   "execution_count": 7,
   "id": "03c72565",
   "metadata": {},
   "outputs": [
    {
     "data": {
      "image/png": "[encoded data removed]",
      "text/latex": [
       "$\\displaystyle \\frac{\\left(2 - x^{2}\\right)^{3} \\left(x - 1\\right)^{2} e^{- x}}{2 x^{3} - 3 x}$"
      ],
      "text/plain": [
       "        3             \n",
       "⎛     2⎞         2  -x\n",
       "⎝2 - x ⎠ ⋅(x - 1) ⋅ℯ  \n",
       "──────────────────────\n",
       "         3            \n",
       "      2⋅x  - 3⋅x      "
      ]
     },
     "execution_count": 7,
     "metadata": {},
     "output_type": "execute_result"
    }
   ],
   "source": [
    "x=Symbol('x')\n",
    "y=(2-x**2)**3 *(x-1)**2 / ((2*x**3 - 3*x)*E**x)\n",
    "y"
   ]
  },
  {
   "cell_type": "code",
   "execution_count": 8,
   "id": "eb4b24cb",
   "metadata": {},
   "outputs": [
    {
     "data": {
      "image/png": "[encoded data removed]",
      "text/latex": [
       "$\\displaystyle - \\frac{6 x \\left(2 - x^{2}\\right)^{2} \\left(x - 1\\right)^{2} e^{- x}}{2 x^{3} - 3 x} + \\frac{\\left(2 - x^{2}\\right)^{3} \\left(3 - 6 x^{2}\\right) \\left(x - 1\\right)^{2} e^{- x}}{\\left(2 x^{3} - 3 x\\right)^{2}} - \\frac{\\left(2 - x^{2}\\right)^{3} \\left(x - 1\\right)^{2} e^{- x}}{2 x^{3} - 3 x} + \\frac{\\left(2 - x^{2}\\right)^{3} \\left(2 x - 2\\right) e^{- x}}{2 x^{3} - 3 x}$"
      ],
      "text/plain": [
       "              2                        3                                   3  \n",
       "      ⎛     2⎞         2  -x   ⎛     2⎞  ⎛       2⎞        2  -x   ⎛     2⎞   \n",
       "  6⋅x⋅⎝2 - x ⎠ ⋅(x - 1) ⋅ℯ     ⎝2 - x ⎠ ⋅⎝3 - 6⋅x ⎠⋅(x - 1) ⋅ℯ     ⎝2 - x ⎠ ⋅(\n",
       "- ────────────────────────── + ───────────────────────────────── - ───────────\n",
       "             3                                       2                      3 \n",
       "          2⋅x  - 3⋅x                     ⎛   3      ⎞                    2⋅x  \n",
       "                                         ⎝2⋅x  - 3⋅x⎠                         \n",
       "\n",
       "                      3              \n",
       "      2  -x   ⎛     2⎞             -x\n",
       "x - 1) ⋅ℯ     ⎝2 - x ⎠ ⋅(2⋅x - 2)⋅ℯ  \n",
       "─────────── + ───────────────────────\n",
       "                        3            \n",
       "- 3⋅x                2⋅x  - 3⋅x      \n",
       "                                     "
      ]
     },
     "execution_count": 8,
     "metadata": {},
     "output_type": "execute_result"
    }
   ],
   "source": [
    "diff(y,x)"
   ]
  },
  {
   "cell_type": "markdown",
   "id": "f3d62c7e",
   "metadata": {},
   "source": [
    "**, а теперь посчитаем по формулам вручную:**"
   ]
  },
  {
   "cell_type": "markdown",
   "id": "0ff68daf",
   "metadata": {},
   "source": [
    "$$y'=\\frac{(2-x^2)^3\\cdot(x-1)^2}{(2x^3-3x)\\cdot e^x}\\cdot \\bigl(ln \\bigl(\\frac{(2-x^2)^3\\cdot(x-1)^2}{(2x^3-3x)\\cdot e^x}\\bigr) \\bigr)'=$$"
   ]
  },
  {
   "cell_type": "markdown",
   "id": "6b534df5",
   "metadata": {},
   "source": [
    "$$\\frac{(2-x^2)^3\\cdot(x-1)^2}{(2x^3-3x)\\cdot e^x}\\cdot \\bigl(3 ln(2-x^2)+2ln(x-1)-x-ln(2x^3-3x) \\bigr)'= $$"
   ]
  },
  {
   "cell_type": "markdown",
   "id": "34f63401",
   "metadata": {},
   "source": [
    "$$\\boxed{\\frac{(2-x^2)^3\\cdot(x-1)^2}{(2x^3-3x)\\cdot e^x}\\cdot \\bigl(\\frac{-6x}{2-x^2}+\\frac{2}{x-1}-1-\\frac{6x^2-3}{2x^3-3x}\\bigr)}$$"
   ]
  },
  {
   "cell_type": "markdown",
   "id": "7ee5fcfa",
   "metadata": {},
   "source": [
    "#### __7.__ Найти длину **x** и ширину **y** прямоугольника при заданном периметре **𝑃**=144 cм, при которых данный прямоугольник имеет наибольшую площадь **𝑆**."
   ]
  },
  {
   "cell_type": "markdown",
   "id": "ffe31a9e",
   "metadata": {},
   "source": [
    "$$P = 144см = 2x+2y$$\n",
    "\n",
    "Стоит задача максимизировать площадь **S**\n",
    "\n",
    "$$S = xy = 72x - x^2$$\n",
    "\n",
    "$$S' = 72 - 2x$$\n",
    "\n",
    "S' = 0 при x = 36"
   ]
  },
  {
   "cell_type": "markdown",
   "id": "00e272cb",
   "metadata": {},
   "source": [
    "Построим графики S(x) и S'(x)"
   ]
  },
  {
   "cell_type": "code",
   "execution_count": 15,
   "id": "96b6688e",
   "metadata": {},
   "outputs": [
    {
     "data": {
      "image/png": "[encoded data removed]",
      "text/plain": [
       "<Figure size 432x432 with 1 Axes>"
      ]
     },
     "metadata": {
      "needs_background": "light"
     },
     "output_type": "display_data"
    }
   ],
   "source": [
    "from matplotlib import pyplot as plt\n",
    "import numpy as np\n",
    "%matplotlib inline\n",
    "\n",
    "plt.figure(figsize=(6,6))\n",
    "#plt.axis([-3, 4, -4, 3])\n",
    "\n",
    "x=np.linspace(-50, 100, 200)\n",
    "y=-x**2+72*x   #функция\n",
    "plt.plot(x,y, c='g')\n",
    "\n",
    "g=-2*x + 72    #производная\n",
    "plt.plot(x,g, c='b')\n",
    "plt.grid()\n",
    "\n",
    "plt.show()"
   ]
  },
  {
   "cell_type": "markdown",
   "id": "950d17de",
   "metadata": {},
   "source": [
    "точка (36,0) - экстремум и максимум функции S.\n",
    "при x = 36, y = (144-72)/2 = 36.\n",
    "\n",
    "$$ \\boxed{x=y= 36}$$\n",
    "\n",
    "\n"
   ]
  },
  {
   "cell_type": "code",
   "execution_count": null,
   "id": "b853bfdb",
   "metadata": {},
   "outputs": [],
   "source": []
  }
 ],
 "metadata": {
  "kernelspec": {
   "display_name": "Python 3.8.5 64-bit ('base': conda)",
   "language": "python",
   "name": "python385jvsc74a57bd08a49bb684e43ab00106799ded31d49934e1f306b7a86a273670123ff298874f2"
  },
  "language_info": {
   "codemirror_mode": {
    "name": "ipython",
    "version": 3
   },
   "file_extension": ".py",
   "mimetype": "text/x-python",
   "name": "python",
   "nbconvert_exporter": "python",
   "pygments_lexer": "ipython3",
   "version": "3.8.10"
  }
 },
 "nbformat": 4,
 "nbformat_minor": 5
}
