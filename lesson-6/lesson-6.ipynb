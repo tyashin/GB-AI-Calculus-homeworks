{
 "cells": [
  {
   "cell_type": "markdown",
   "id": "18b87ecc",
   "metadata": {},
   "source": [
    "### Решение будет загружено 01.12.'21. Спасибо за понимание."
   ]
  },
  {
   "cell_type": "code",
   "execution_count": null,
   "id": "1cebab4a",
   "metadata": {},
   "outputs": [],
   "source": []
  }
 ],
 "metadata": {
  "kernelspec": {
   "display_name": "Python 3.8.5 64-bit ('base': conda)",
   "language": "python",
   "name": "python385jvsc74a57bd08a49bb684e43ab00106799ded31d49934e1f306b7a86a273670123ff298874f2"
  },
  "language_info": {
   "codemirror_mode": {
    "name": "ipython",
    "version": 3
   },
   "file_extension": ".py",
   "mimetype": "text/x-python",
   "name": "python",
   "nbconvert_exporter": "python",
   "pygments_lexer": "ipython3",
   "version": "3.8.10"
  }
 },
 "nbformat": 4,
 "nbformat_minor": 5
}
